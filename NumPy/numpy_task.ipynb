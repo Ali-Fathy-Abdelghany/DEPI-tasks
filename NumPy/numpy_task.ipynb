{
 "cells": [
  {
   "cell_type": "code",
   "execution_count": 14,
   "metadata": {},
   "outputs": [],
   "source": [
    "import numpy as np"
   ]
  },
  {
   "cell_type": "code",
   "execution_count": 1,
   "metadata": {},
   "outputs": [
    {
     "name": "stdout",
     "output_type": "stream",
     "text": [
      "[[11 22 33]\n",
      " [41 52 63]]\n"
     ]
    }
   ],
   "source": [
    "#1 a\n",
    "arr_2d = np.array([[10, 20, 30], [40, 50, 60]])\n",
    "arr_1d = np.array([1, 2, 3])\n",
    "\n",
    "print(arr_2d + arr_1d)"
   ]
  },
  {
   "cell_type": "code",
   "execution_count": 46,
   "metadata": {},
   "outputs": [
    {
     "name": "stdout",
     "output_type": "stream",
     "text": [
      "[[10 20]\n",
      " [60 80]]\n"
     ]
    }
   ],
   "source": [
    "#1 b\n",
    "arr_1d= np.array([10, 20])\n",
    "arr_2d = np.array([[1, 2], [3, 4]])\n",
    "result = arr_2d * arr_1d.reshape(-1,1) # reshape(-1,1) == [:,np.newaxis] \n",
    "print(result)"
   ]
  },
  {
   "cell_type": "code",
   "execution_count": 16,
   "metadata": {},
   "outputs": [
    {
     "name": "stdout",
     "output_type": "stream",
     "text": [
      "[[13 14 15 16]\n",
      " [17 18 19 20]\n",
      " [21 22 23 24]]\n"
     ]
    }
   ],
   "source": [
    "#2 a\n",
    "arr = np.arange(1, 25).reshape(2, 3, 4)\n",
    "print(arr[1,:,:])"
   ]
  },
  {
   "cell_type": "code",
   "execution_count": 18,
   "metadata": {},
   "outputs": [
    {
     "name": "stdout",
     "output_type": "stream",
     "text": [
      "[[ 4  8 12]\n",
      " [16 20 24]]\n"
     ]
    }
   ],
   "source": [
    "#2 b\n",
    "print(arr[:,:,-1])"
   ]
  },
  {
   "cell_type": "code",
   "execution_count": 20,
   "metadata": {},
   "outputs": [
    {
     "name": "stdout",
     "output_type": "stream",
     "text": [
      "[[[13 14 15 16]\n",
      "  [17 18 19 20]\n",
      "  [21 22 23 24]]\n",
      "\n",
      " [[ 1  2  3  4]\n",
      "  [ 5  6  7  8]\n",
      "  [ 9 10 11 12]]]\n"
     ]
    }
   ],
   "source": [
    "#2 c\n",
    "print(arr[::-1,:,:])"
   ]
  },
  {
   "cell_type": "code",
   "execution_count": 21,
   "metadata": {},
   "outputs": [
    {
     "name": "stdout",
     "output_type": "stream",
     "text": [
      "[[[ 1 -1  3 -1]\n",
      "  [ 5 -1  7 -1]\n",
      "  [ 9 -1 11 -1]]\n",
      "\n",
      " [[13 -1 15 -1]\n",
      "  [17 -1 19 -1]\n",
      "  [21 -1 23 -1]]]\n"
     ]
    }
   ],
   "source": [
    "#2 d\n",
    "arr[arr % 2 == 0] = -1\n",
    "print(arr)"
   ]
  },
  {
   "cell_type": "code",
   "execution_count": 26,
   "metadata": {},
   "outputs": [
    {
     "name": "stdout",
     "output_type": "stream",
     "text": [
      "[1 1 3 3 5 5]\n"
     ]
    }
   ],
   "source": [
    "#3 a\n",
    "arr = np.array([1, 2, 3, 4, 5, 6])\n",
    "result= np.repeat(arr, np.where(arr % 2 == 1, 2, 0))\n",
    "print(result)"
   ]
  },
  {
   "cell_type": "code",
   "execution_count": 27,
   "metadata": {},
   "outputs": [
    {
     "name": "stdout",
     "output_type": "stream",
     "text": [
      "[1 2 2 3 3 3 4 4 4 4 5 5 5 5 5 6 6 6 6 6 6]\n"
     ]
    }
   ],
   "source": [
    "#3 b\n",
    "result = np.repeat(arr, arr)\n",
    "print(result)"
   ]
  },
  {
   "cell_type": "code",
   "execution_count": 32,
   "metadata": {},
   "outputs": [
    {
     "data": {
      "text/plain": [
       "array([0. , 0.5, 1. ])"
      ]
     },
     "execution_count": 32,
     "metadata": {},
     "output_type": "execute_result"
    }
   ],
   "source": [
    "#4\n",
    "arr = np.array([10, 20, 30])\n",
    "arr=(arr - arr.min()) / (arr.max() - arr.min())\n",
    "arr"
   ]
  },
  {
   "cell_type": "code",
   "execution_count": 47,
   "metadata": {},
   "outputs": [
    {
     "name": "stdout",
     "output_type": "stream",
     "text": [
      "[[0 0 0]\n",
      " [0 1 2]\n",
      " [0 2 4]]\n"
     ]
    }
   ],
   "source": [
    "#5 a\n",
    "i = np.arange(3) #[0 1 2]\n",
    "j = np.arange(3).reshape(-1,1) #[[0] [1] [2]] \n",
    "result = i*j\n",
    "print(result)"
   ]
  },
  {
   "cell_type": "code",
   "execution_count": 56,
   "metadata": {},
   "outputs": [
    {
     "name": "stdout",
     "output_type": "stream",
     "text": [
      "[[ 0  1  2  3]\n",
      " [ 4  0  6  7]\n",
      " [ 8  9  0 11]\n",
      " [12 13 14  0]]\n"
     ]
    }
   ],
   "source": [
    "#5 b\n",
    "arr = np.arange(16).reshape(4, 4)\n",
    "rows, cols = np.indices(arr.shape)  \n",
    "arr = np.where(rows == cols, 0, arr) \n",
    "print(arr)"
   ]
  }
 ],
 "metadata": {
  "kernelspec": {
   "display_name": "myenv",
   "language": "python",
   "name": "python3"
  },
  "language_info": {
   "codemirror_mode": {
    "name": "ipython",
    "version": 3
   },
   "file_extension": ".py",
   "mimetype": "text/x-python",
   "name": "python",
   "nbconvert_exporter": "python",
   "pygments_lexer": "ipython3",
   "version": "3.12.2"
  }
 },
 "nbformat": 4,
 "nbformat_minor": 2
}
